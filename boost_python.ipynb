{
 "cells": [
  {
   "cell_type": "code",
   "execution_count": 79,
   "metadata": {},
   "outputs": [],
   "source": [
    "from tls_crypt import *"
   ]
  },
  {
   "cell_type": "code",
   "execution_count": 74,
   "metadata": {},
   "outputs": [
    {
     "ename": "NameError",
     "evalue": "name 'AES2' is not defined",
     "output_type": "error",
     "traceback": [
      "\u001b[0;31m---------------------------------------------------------------------------\u001b[0m",
      "\u001b[0;31mNameError\u001b[0m                                 Traceback (most recent call last)",
      "\u001b[0;32m<ipython-input-74-53c7d775d849>\u001b[0m in \u001b[0;36m<module>\u001b[0;34m()\u001b[0m\n\u001b[0;32m----> 1\u001b[0;31m \u001b[0maes\u001b[0m \u001b[0;34m=\u001b[0m \u001b[0mAES2\u001b[0m\u001b[0;34m(\u001b[0m\u001b[0;34m)\u001b[0m\u001b[0;34m\u001b[0m\u001b[0m\n\u001b[0m",
      "\u001b[0;31mNameError\u001b[0m: name 'AES2' is not defined"
     ]
    }
   ],
   "source": [
    "aes = AES2()"
   ]
  },
  {
   "cell_type": "code",
   "execution_count": 80,
   "metadata": {},
   "outputs": [],
   "source": [
    "k = K()"
   ]
  },
  {
   "cell_type": "code",
   "execution_count": 81,
   "metadata": {},
   "outputs": [
    {
     "ename": "AttributeError",
     "evalue": "'K' object has no attribute 'show'",
     "output_type": "error",
     "traceback": [
      "\u001b[0;31m---------------------------------------------------------------------------\u001b[0m",
      "\u001b[0;31mAttributeError\u001b[0m                            Traceback (most recent call last)",
      "\u001b[0;32m<ipython-input-81-a8dc2ab50a91>\u001b[0m in \u001b[0;36m<module>\u001b[0;34m()\u001b[0m\n\u001b[0;32m----> 1\u001b[0;31m \u001b[0mk\u001b[0m\u001b[0;34m.\u001b[0m\u001b[0mshow\u001b[0m\u001b[0;34m(\u001b[0m\u001b[0;34m)\u001b[0m\u001b[0;34m\u001b[0m\u001b[0m\n\u001b[0m",
      "\u001b[0;31mAttributeError\u001b[0m: 'K' object has no attribute 'show'"
     ]
    }
   ],
   "source": [
    "k.show()"
   ]
  },
  {
   "cell_type": "code",
   "execution_count": 42,
   "metadata": {},
   "outputs": [
    {
     "name": "stdout",
     "output_type": "stream",
     "text": [
      "5935089792660921850358261239589601863694265065218891646648702658803577226013106420792071011557878194670654875687474359103996690\n"
     ]
    }
   ],
   "source": [
    "print(0x2312321312313123131232131231231232131223123131232131231231231232141241241342141234214123412342134214214312)"
   ]
  },
  {
   "cell_type": "code",
   "execution_count": 43,
   "metadata": {},
   "outputs": [
    {
     "data": {
      "text/plain": [
       "[125, 214, 159]"
      ]
     },
     "execution_count": 43,
     "metadata": {},
     "output_type": "execute_result"
    }
   ],
   "source": [
    "base64_decode('fdaf')"
   ]
  },
  {
   "cell_type": "code",
   "execution_count": 47,
   "metadata": {},
   "outputs": [
    {
     "data": {
      "text/plain": [
       "'fdafDBU='"
      ]
     },
     "execution_count": 47,
     "metadata": {},
     "output_type": "execute_result"
    }
   ],
   "source": [
    "base64_encode([125,214,159,12,21])"
   ]
  },
  {
   "cell_type": "code",
   "execution_count": 46,
   "metadata": {},
   "outputs": [
    {
     "name": "stdout",
     "output_type": "stream",
     "text": [
      "[\n",
      "\t[\n",
      "\t\t\"00:\",\n",
      "\t\t\"00:c0:0c:a3:c6:6a:2c:dc:62:99:af:2d:44:f6:9c:d1:17:33:6b:4a:d6:d5:28:b7:1f:c9:52:a9:52:13:e1:c5:ed:c5:b1:f5:58:44:21:dd:31:92:7a:62:0d:72:99:46:1f:3f:9c:c9:fd:48:1f:af:2a:93:8a:0a:83:13:71:51:78:7c:11:71:47:4f:64:17:60:3d:c2:c8:1f:a1:fe:d7:d1:51:9a:13:83:02:41:8e:88:33:d8:35:df:bd:68:3c:fc:71:6a:51:f6:0e:15:22:1c:e2:77:34:e1:02:29:f6:3a:e9:e0:d5:72:e8:c3:30:68:ce:13:33:fa:14:dc:74:33:05:9a:2b:c6:42:ad:91:11:ca:69:2e:07:6c:0a:3d:e1:7e:a5:d0:1d:23:50:4c:11:fc:32:c4:aa:be:25:75:c8:21:b0:10:d5:e3:6b:17:43:18:93:f0:b7:02:78:ef:92:23:43:38:7d:01:8e:50:14:50:44:e4:39:ad:57:0a:b5:59:fd:e1:c2:8b:a5:1d:5b:bd:25:b9:e1:b0:e5:15:f0:8e:77:fd:3b:c1:c4:33:2c:84:45:84:61:ab:46:30:0c:ae:34:01:9d:fc:b6:41:1e:92:50:cb:d1:5a:a3:40:6c:57:d8:26:5f:4f:f6:8e:e5:c4:1b:e3:0b:bf:ee:f0:7b:\",\n",
      "\t\t\"01:00:01:\",\n",
      "\t\t\"0d:b4:99:37:7e:ba:46:dc:0e:85:ae:e0:5e:0d:20:ea:db:f3:8b:3a:bb:a9:95:30:02:89:10:a6:57:de:e3:e6:2d:16:9f:20:b6:74:08:3a:12:6f:03:72:5c:3c:4e:01:ca:e3:60:92:df:c3:cb:17:69:c2:0f:2f:fd:82:37:c3:36:6f:74:3b:17:92:58:0c:b9:3b:9e:56:8b:94:09:48:d9:de:fa:07:7e:70:b9:40:45:1a:e7:f5:58:aa:08:b8:27:4b:e4:1f:80:2f:c7:e8:71:cc:fa:0c:18:c0:6f:df:12:73:c6:27:d6:2e:9f:d4:ca:e8:19:ec:7d:f2:a1:a4:26:a1:81:d2:dc:9f:be:57:af:80:e7:dc:0f:71:ec:ac:55:e7:0d:35:23:aa:99:e7:5c:dd:c4:51:f8:6e:e7:fb:9a:7b:58:3d:18:9f:da:b6:73:0b:ff:8d:24:06:98:f0:63:af:b8:08:56:4d:6a:85:2c:02:63:37:cf:75:61:39:81:60:52:9d:5c:5c:55:de:75:1d:a7:bd:36:6b:64:c2:1c:31:e7:85:f4:bb:b4:bf:10:8a:75:fe:70:5c:d2:d9:55:df:22:46:9e:92:bd:6e:7a:fd:a5:6d:72:2f:4f:98:f3:d1:7b:16:19:ce:70:42:71:5c:1f:33:5c:33:cd:91:\",\n",
      "\t\t\"00:f9:db:c7:16:3a:f8:21:bd:27:9a:a6:49:ca:69:47:d2:4b:ca:6a:4e:66:9b:18:e3:9f:61:c5:e1:c6:35:79:27:4c:a8:ef:53:b1:95:f8:ae:e9:af:8c:56:a6:cc:1f:39:6c:e5:fb:c5:87:7f:9a:16:b7:db:5a:12:69:ea:8f:7a:5d:43:88:21:dc:03:66:ae:50:73:b4:2f:ba:e2:ab:ab:22:c9:34:5d:d1:9a:b6:35:c0:90:0c:8a:19:e6:0f:73:dc:4b:5a:ae:9e:b4:c4:07:1d:48:4c:f3:25:6b:ec:1c:97:84:a7:af:a4:24:f0:00:17:64:0f:af:3b:e9:2c:29:\",\n",
      "\t\t\"00:c4:c5:19:d7:e8:79:e2:4e:ad:9c:b3:5d:fd:b2:08:45:af:24:22:be:de:e0:93:06:95:05:ea:29:f9:5e:09:bc:aa:d4:4b:e7:a0:ba:ef:ed:5c:76:73:17:bf:25:04:12:9d:ba:23:b3:06:5b:f3:f9:68:0c:bf:f2:ae:09:f9:59:2b:27:46:6e:c4:aa:bb:81:6a:f0:0b:c7:30:99:33:f2:0f:73:af:6c:20:c9:3c:71:5b:76:7e:16:62:9d:db:9e:f7:36:88:83:ed:c7:07:c7:cb:12:37:36:ae:b0:40:c1:a2:4e:a0:eb:48:d3:a4:6e:97:11:03:b8:b9:45:8c:03:\",\n",
      "\t\t\"00:b5:77:67:ba:bf:8d:63:83:ab:f5:e7:fc:03:e4:3e:e3:7f:64:3d:9d:3f:6c:39:c1:68:0a:6c:db:b3:47:36:fc:d1:f2:88:0f:73:15:07:0e:92:6e:8b:30:8b:e8:08:6d:7e:a7:f2:19:de:75:50:86:5b:76:16:8e:f5:1a:04:a6:cc:81:b5:a7:51:d1:ae:8b:bf:a6:a9:21:59:4c:33:7e:11:bf:ac:26:cf:8a:db:f7:62:29:bc:d1:b8:49:9c:c3:7b:25:c7:70:b7:97:76:1f:ec:a6:8c:2c:b3:eb:14:0b:18:08:a2:79:30:70:1b:57:15:a5:f8:b6:3e:7e:f5:31:\",\n",
      "\t\t\"75:3c:56:0c:7c:d7:79:cd:94:c5:03:5d:61:d5:1b:f6:a0:c6:2f:e9:77:13:68:a6:08:4e:10:d9:57:58:ff:06:28:e5:fa:1f:94:75:2c:94:48:7d:ce:4e:fc:b4:ca:3b:69:3c:49:1e:d6:10:1d:49:a1:03:cf:ad:80:a2:32:ad:3c:f7:d6:90:12:9f:02:be:b5:ff:35:95:45:50:52:51:cb:81:0a:a8:aa:d4:1b:2e:12:e7:83:72:44:e9:76:bb:bc:e1:01:ef:50:d1:3f:c2:7b:2c:6c:37:29:57:9c:0d:82:6d:c4:94:ca:bc:46:81:19:82:aa:ab:f9:bf:05:0f:\",\n",
      "\t\t\"00:e1:36:f6:7d:f8:fc:14:66:34:de:86:fe:04:28:39:52:90:25:21:36:ad:7a:28:9b:e4:6f:85:05:9b:3f:a2:6f:e3:95:cf:05:5c:71:d8:76:09:b1:6f:4f:ba:4c:f4:6c:fa:c3:30:82:9e:28:2f:86:27:3e:1c:60:ec:be:8c:34:40:0e:ee:62:8b:2b:1f:d3:f9:5c:4c:cf:e8:a1:7a:24:3c:d1:40:4c:4f:f7:2d:b5:63:c6:c5:81:b7:16:a1:c1:ec:c5:10:a2:54:60:7a:15:91:0e:30:a7:2a:80:3d:89:8b:7b:15:21:91:80:4f:31:4f:1a:3e:44:5b:6a:90:a4:\"\n",
      "\t]\n",
      "]\n"
     ]
    }
   ],
   "source": [
    "print pem2json('../dndd2/key.pem')"
   ]
  },
  {
   "cell_type": "code",
   "execution_count": null,
   "metadata": {},
   "outputs": [],
   "source": []
  }
 ],
 "metadata": {
  "kernelspec": {
   "display_name": "Python 2",
   "language": "python",
   "name": "python2"
  },
  "language_info": {
   "codemirror_mode": {
    "name": "ipython",
    "version": 2
   },
   "file_extension": ".py",
   "mimetype": "text/x-python",
   "name": "python",
   "nbconvert_exporter": "python",
   "pygments_lexer": "ipython2",
   "version": "2.7.15rc1"
  }
 },
 "nbformat": 4,
 "nbformat_minor": 2
}
